{
 "cells": [
  {
   "cell_type": "markdown",
   "metadata": {},
   "source": [
    "### <p style=\"text-align: right;\"> &#9999; Type your name here</p>"
   ]
  },
  {
   "cell_type": "markdown",
   "metadata": {},
   "source": [
    "# 18A: pandas - Python Data Analysis Library\n",
    "\n",
    "<img src=\"https://pandas.pydata.org/static/img/pandas.svg\" width=200px>"
   ]
  },
  {
   "cell_type": "markdown",
   "metadata": {
    "tags": []
   },
   "source": [
    "## Goals\n",
    "\n",
    "- Improve skills importing data\n",
    "- Develop the ability to use the Pandas module to analyze and visualize data\n"
   ]
  },
  {
   "cell_type": "markdown",
   "metadata": {},
   "source": [
    "### Resources\n",
    "To learn more about Pandas, check out these two links:\n",
    "- The [Pandas website](http://pandas.pydata.org/)\n",
    "- [10-minute Panda Tutorial](http://pandas.pydata.org/pandas-docs/stable/10min.html)\n"
   ]
  },
  {
   "cell_type": "markdown",
   "metadata": {
    "tags": []
   },
   "source": [
    "# The pandas module \n",
    "- strength in data analysis and presentation/visualization\n",
    "- based on the data frame structure"
   ]
  },
  {
   "cell_type": "code",
   "execution_count": 2,
   "metadata": {},
   "outputs": [],
   "source": [
    "# Start by importing pandas as pd, matplotlib.pyplot as plt \n",
    "# and adding the line %matplotlib inline to support inline visualizations\n",
    "\n",
    "import pandas as pd\n",
    "import matplotlib.pyplot as plt\n",
    "%matplotlib inline"
   ]
  },
  {
   "cell_type": "markdown",
   "metadata": {},
   "source": [
    "Before we can work with pandas to analyze data, we have to get some data to work with. Remember to download from Schoology the .csv files to the same folder that this file is in.\n",
    "\n",
    "The files we will work with include information on Michigan Vaccinations and Cardiac Health Risks for individuals."
   ]
  },
  {
   "cell_type": "code",
   "execution_count": 66,
   "metadata": {
    "tags": []
   },
   "outputs": [],
   "source": [
    "# Let's import some data\n",
    "\n",
    "\n",
    "\n",
    "\n",
    "\n",
    "\n",
    "\n",
    "\n"
   ]
  },
  {
   "cell_type": "markdown",
   "metadata": {},
   "source": [
    "Often times it is useful just to see  the first few lines or the last few lines of the data. We can do this with .head() or .tail()."
   ]
  },
  {
   "cell_type": "code",
   "execution_count": 68,
   "metadata": {
    "tags": []
   },
   "outputs": [],
   "source": [
    "# Type your code here to just show the first few lines and the last few lines.\n",
    "\n",
    "\n"
   ]
  },
  {
   "cell_type": "markdown",
   "metadata": {},
   "source": [
    "### Basic statistics of the data frame.\n",
    "We have already seen in Python and NumPy how to calculate the basic statistics for a list or an array. How about for a data frame? "
   ]
  },
  {
   "cell_type": "code",
   "execution_count": 72,
   "metadata": {
    "tags": []
   },
   "outputs": [],
   "source": [
    "# The code to output the basic statistics for each column of data\n",
    "\n",
    "\n",
    "# How do theses statistics differ from the prior statistics that you generated in NumPy?"
   ]
  },
  {
   "cell_type": "markdown",
   "metadata": {},
   "source": [
    "\n",
    "This data set has a lot of columns. However, often we are only interested in a specific column. To output a specific column is called \"slicing\" as we are removing a 'slice' of data."
   ]
  },
  {
   "cell_type": "code",
   "execution_count": 3,
   "metadata": {
    "tags": []
   },
   "outputs": [],
   "source": [
    "# Use 'slicing' to show only the column 'people_vaccinated'.\n"
   ]
  },
  {
   "cell_type": "markdown",
   "metadata": {},
   "source": [
    "Let's explore the data to see how many people were vaccinated per 100 people. Make a histogram representing this data. Remember to review the data to understand how it is organized so this makes sense."
   ]
  },
  {
   "cell_type": "code",
   "execution_count": 76,
   "metadata": {
    "tags": []
   },
   "outputs": [],
   "source": [
    "# Type in your code here\n",
    "\n",
    "\n",
    "# Is this data useful? Is it the best way to present the information?"
   ]
  },
  {
   "cell_type": "code",
   "execution_count": 78,
   "metadata": {
    "tags": []
   },
   "outputs": [],
   "source": [
    "# Does a scatter plot work better?\n",
    "\n",
    "\n",
    "# is this data useful? Is it the best way to present the information?"
   ]
  },
  {
   "cell_type": "markdown",
   "metadata": {},
   "source": [
    "In both of the graphs above, one could argue that neither is the best way to present the data. It depends on what you are trying to communicate. Possibly a simple line graph would have done the trick. It is important to use the presentation method that works best for both your data and what you are trying to communicate."
   ]
  },
  {
   "cell_type": "markdown",
   "metadata": {},
   "source": [
    "### Presenting new data\n",
    "\n",
    "This doesn't mean that bar graphs and scatter plots are not useful. We need to consider the data and what it presents.\n",
    "\n",
    "Let's look at cardiac risk in people. First, we need to read \"cardio_risk.csv\" into Python."
   ]
  },
  {
   "cell_type": "code",
   "execution_count": 80,
   "metadata": {
    "tags": []
   },
   "outputs": [],
   "source": [
    "# Read in the cardio_risk data and verify it was read correctly\n",
    "\n",
    "\n",
    "\n"
   ]
  },
  {
   "cell_type": "code",
   "execution_count": 82,
   "metadata": {},
   "outputs": [],
   "source": [
    "# Show the basic statistics on the cardio_risk columns\n",
    "\n",
    "\n",
    "\n",
    "# Do you see anything that stands out to you?"
   ]
  },
  {
   "cell_type": "markdown",
   "metadata": {},
   "source": [
    "It is often important to determine if the data is representative of the population being studied. One way to show the breadth of the data is using a histogram."
   ]
  },
  {
   "cell_type": "code",
   "execution_count": 86,
   "metadata": {},
   "outputs": [],
   "source": [
    "# A histgram of the 'age' column to see the distribution of participants ages\n",
    "\n",
    "\n",
    "# Do you think this is a good representation? Why or why not?"
   ]
  },
  {
   "cell_type": "markdown",
   "metadata": {},
   "source": [
    "Let's say you have theory that glucose levels increase with age. To verify this, you do a scatter plot of age versus glucose, with age being the independent variable."
   ]
  },
  {
   "cell_type": "code",
   "execution_count": 88,
   "metadata": {},
   "outputs": [],
   "source": [
    "# Create the scatter plot here.\n",
    "\n",
    "\n",
    "# Does the scatter plot support your theory?"
   ]
  },
  {
   "cell_type": "markdown",
   "metadata": {},
   "source": [
    "Look back at the data and come up with a theory of your own about two of the variables that may be correlated. Create a scatter plot to support or disprove your theory below."
   ]
  },
  {
   "cell_type": "code",
   "execution_count": null,
   "metadata": {},
   "outputs": [],
   "source": [
    "# Type in your code here\n"
   ]
  },
  {
   "cell_type": "markdown",
   "metadata": {},
   "source": [
    "Did the scatter plot support or disprove your theory? Why do you believe so?\n",
    "\n",
    "&#9999;\n"
   ]
  },
  {
   "cell_type": "markdown",
   "metadata": {},
   "source": [
    "In the space below, type in your key learnings from this activity.\n",
    "\n",
    "&#9999;"
   ]
  },
  {
   "cell_type": "code",
   "execution_count": null,
   "metadata": {},
   "outputs": [],
   "source": []
  }
 ],
 "metadata": {
  "anaconda-cloud": {},
  "kernelspec": {
   "display_name": "Python 3",
   "language": "python",
   "name": "python3"
  },
  "language_info": {
   "codemirror_mode": {
    "name": "ipython",
    "version": 3
   },
   "file_extension": ".py",
   "mimetype": "text/x-python",
   "name": "python",
   "nbconvert_exporter": "python",
   "pygments_lexer": "ipython3",
   "version": "3.12.1"
  }
 },
 "nbformat": 4,
 "nbformat_minor": 4
}
